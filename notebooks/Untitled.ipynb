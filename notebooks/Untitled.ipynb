{
 "cells": [
  {
   "cell_type": "code",
   "execution_count": 1,
   "id": "4c0522d8",
   "metadata": {},
   "outputs": [
    {
     "data": {
      "text/plain": [
       "['.bk1.json', '.bk2.json', '.mcdo1.json', '.mcdo2.json', 'scrape.bat']"
      ]
     },
     "execution_count": 1,
     "metadata": {},
     "output_type": "execute_result"
    }
   ],
   "source": [
    "path = \"C:\\git\\mcdo-centrale\"\n",
    "import os\n",
    "\n",
    "os.listdir(path)"
   ]
  },
  {
   "cell_type": "code",
   "execution_count": 2,
   "id": "1edd42cc",
   "metadata": {},
   "outputs": [],
   "source": [
    "import sys\n",
    "sys.path.append(\"../\")\n",
    "\n",
    "import climatewatch"
   ]
  },
  {
   "cell_type": "code",
   "execution_count": 7,
   "id": "3b8907dd",
   "metadata": {},
   "outputs": [],
   "source": [
    "from climatewatch.data import process_raw_data\n",
    "from climatewatch.data import open_jsonl_data"
   ]
  },
  {
   "cell_type": "code",
   "execution_count": 9,
   "id": "23376770",
   "metadata": {},
   "outputs": [
    {
     "data": {
      "text/plain": [
       "['.bk2.json', '.mcdo1.json']"
      ]
     },
     "execution_count": 9,
     "metadata": {},
     "output_type": "execute_result"
    }
   ],
   "source": [
    "json_files = [x for x in os.listdir(path) if x.endswith(\".json\")]\n",
    "json_files"
   ]
  },
  {
   "cell_type": "code",
   "execution_count": 13,
   "id": "1c84b430",
   "metadata": {},
   "outputs": [],
   "source": [
    "import pandas as pd"
   ]
  },
  {
   "cell_type": "code",
   "execution_count": 14,
   "id": "0d0a2b52",
   "metadata": {},
   "outputs": [],
   "source": [
    "data = []\n",
    "\n",
    "for json_file in json_files:\n",
    "\n",
    "    data_file = open_jsonl_data(os.path.join(path,json_file),encoding = \"utf8\")\n",
    "    data_file = process_raw_data(data_file)\n",
    "#     data_file = process_sentiment_vader(data_file)\n",
    "    data_file[\"source_file\"] = json_file\n",
    "\n",
    "    data.append(data_file)\n",
    "\n",
    "data = pd.concat(data,ignore_index = True)\n",
    "#     data.to_pickle(\"../data/IPCC/full_data_without_emotions.pkl\")"
   ]
  },
  {
   "cell_type": "code",
   "execution_count": 16,
   "id": "1fbfa055",
   "metadata": {},
   "outputs": [
    {
     "data": {
      "text/plain": [
       "(30776, 31)"
      ]
     },
     "execution_count": 16,
     "metadata": {},
     "output_type": "execute_result"
    }
   ],
   "source": [
    "data.shape"
   ]
  },
  {
   "cell_type": "code",
   "execution_count": 18,
   "id": "11b862e7",
   "metadata": {},
   "outputs": [],
   "source": [
    "data.to_csv(\"tweets_mcdo_bk.csv\",index = False)"
   ]
  },
  {
   "cell_type": "code",
   "execution_count": 15,
   "id": "2ef11a26",
   "metadata": {},
   "outputs": [
    {
     "data": {
      "text/html": [
       "<div>\n",
       "<style scoped>\n",
       "    .dataframe tbody tr th:only-of-type {\n",
       "        vertical-align: middle;\n",
       "    }\n",
       "\n",
       "    .dataframe tbody tr th {\n",
       "        vertical-align: top;\n",
       "    }\n",
       "\n",
       "    .dataframe thead th {\n",
       "        text-align: right;\n",
       "    }\n",
       "</style>\n",
       "<table border=\"1\" class=\"dataframe\">\n",
       "  <thead>\n",
       "    <tr style=\"text-align: right;\">\n",
       "      <th></th>\n",
       "      <th>_type</th>\n",
       "      <th>url</th>\n",
       "      <th>date</th>\n",
       "      <th>content</th>\n",
       "      <th>renderedContent</th>\n",
       "      <th>id</th>\n",
       "      <th>user</th>\n",
       "      <th>replyCount</th>\n",
       "      <th>retweetCount</th>\n",
       "      <th>likeCount</th>\n",
       "      <th>...</th>\n",
       "      <th>coordinates</th>\n",
       "      <th>place</th>\n",
       "      <th>hashtags</th>\n",
       "      <th>cashtags</th>\n",
       "      <th>username</th>\n",
       "      <th>clean_text</th>\n",
       "      <th>clean_sentiment</th>\n",
       "      <th>likeCat</th>\n",
       "      <th>retweetCat</th>\n",
       "      <th>source_file</th>\n",
       "    </tr>\n",
       "  </thead>\n",
       "  <tbody>\n",
       "    <tr>\n",
       "      <th>0</th>\n",
       "      <td>snscrape.modules.twitter.Tweet</td>\n",
       "      <td>https://twitter.com/KjTomei/status/15944499095...</td>\n",
       "      <td>2022-11-20 21:57:36+00:00</td>\n",
       "      <td>@DougStanhope @BurgerKing I heard their new ve...</td>\n",
       "      <td>@DougStanhope @BurgerKing I heard their new ve...</td>\n",
       "      <td>1594449909578698753</td>\n",
       "      <td>{'_type': 'snscrape.modules.twitter.User', 'us...</td>\n",
       "      <td>0</td>\n",
       "      <td>0</td>\n",
       "      <td>0</td>\n",
       "      <td>...</td>\n",
       "      <td>None</td>\n",
       "      <td>None</td>\n",
       "      <td>None</td>\n",
       "      <td>None</td>\n",
       "      <td>KjTomei</td>\n",
       "      <td>DougStanhope BurgerKing I heard their new vegg...</td>\n",
       "      <td>@user @user I heard their new veggie burger is...</td>\n",
       "      <td>&lt;5</td>\n",
       "      <td>&lt;5</td>\n",
       "      <td>.bk2.json</td>\n",
       "    </tr>\n",
       "    <tr>\n",
       "      <th>1</th>\n",
       "      <td>snscrape.modules.twitter.Tweet</td>\n",
       "      <td>https://twitter.com/rKyro_N/status/15944238792...</td>\n",
       "      <td>2022-11-20 20:14:10+00:00</td>\n",
       "      <td>Surely @BurgerKing knows that veggie means no ...</td>\n",
       "      <td>Surely @BurgerKing knows that veggie means no ...</td>\n",
       "      <td>1594423879207993345</td>\n",
       "      <td>{'_type': 'snscrape.modules.twitter.User', 'us...</td>\n",
       "      <td>0</td>\n",
       "      <td>0</td>\n",
       "      <td>0</td>\n",
       "      <td>...</td>\n",
       "      <td>None</td>\n",
       "      <td>None</td>\n",
       "      <td>None</td>\n",
       "      <td>None</td>\n",
       "      <td>rKyro_N</td>\n",
       "      <td>Surely BurgerKing knows that veggie means no m...</td>\n",
       "      <td>Surely @user knows that veggie means no meat? ...</td>\n",
       "      <td>&lt;5</td>\n",
       "      <td>&lt;5</td>\n",
       "      <td>.bk2.json</td>\n",
       "    </tr>\n",
       "    <tr>\n",
       "      <th>2</th>\n",
       "      <td>snscrape.modules.twitter.Tweet</td>\n",
       "      <td>https://twitter.com/SpaceJello1/status/1594422...</td>\n",
       "      <td>2022-11-20 20:07:38+00:00</td>\n",
       "      <td>@azurasrose @waslenasagt Zum Beispiel TJs Koop...</td>\n",
       "      <td>@azurasrose @waslenasagt Zum Beispiel TJs Koop...</td>\n",
       "      <td>1594422236412256256</td>\n",
       "      <td>{'_type': 'snscrape.modules.twitter.User', 'us...</td>\n",
       "      <td>1</td>\n",
       "      <td>0</td>\n",
       "      <td>1</td>\n",
       "      <td>...</td>\n",
       "      <td>None</td>\n",
       "      <td>None</td>\n",
       "      <td>None</td>\n",
       "      <td>None</td>\n",
       "      <td>SpaceJello1</td>\n",
       "      <td>azurasrose waslenasagt Zum Beispiel TJs Kooper...</td>\n",
       "      <td>@user @user Zum Beispiel TJs Kooperation mit B...</td>\n",
       "      <td>&lt;5</td>\n",
       "      <td>&lt;5</td>\n",
       "      <td>.bk2.json</td>\n",
       "    </tr>\n",
       "    <tr>\n",
       "      <th>3</th>\n",
       "      <td>snscrape.modules.twitter.Tweet</td>\n",
       "      <td>https://twitter.com/ZestyJalapeno3/status/1594...</td>\n",
       "      <td>2022-11-19 20:36:20+00:00</td>\n",
       "      <td>@SanyaWaffles Oof, I heard they were pretty ba...</td>\n",
       "      <td>@SanyaWaffles Oof, I heard they were pretty ba...</td>\n",
       "      <td>1594067068131082240</td>\n",
       "      <td>{'_type': 'snscrape.modules.twitter.User', 'us...</td>\n",
       "      <td>1</td>\n",
       "      <td>0</td>\n",
       "      <td>1</td>\n",
       "      <td>...</td>\n",
       "      <td>None</td>\n",
       "      <td>None</td>\n",
       "      <td>None</td>\n",
       "      <td>None</td>\n",
       "      <td>ZestyJalapeno3</td>\n",
       "      <td>SanyaWaffles Oof, I heard they were pretty bad...</td>\n",
       "      <td>@user Oof, I heard they were pretty bad but I ...</td>\n",
       "      <td>&lt;5</td>\n",
       "      <td>&lt;5</td>\n",
       "      <td>.bk2.json</td>\n",
       "    </tr>\n",
       "    <tr>\n",
       "      <th>4</th>\n",
       "      <td>snscrape.modules.twitter.Tweet</td>\n",
       "      <td>https://twitter.com/AkseL_97/status/1594048058...</td>\n",
       "      <td>2022-11-19 19:20:47+00:00</td>\n",
       "      <td>Je viens d’essayer le Burger King veggie et… h...</td>\n",
       "      <td>Je viens d’essayer le Burger King veggie et… h...</td>\n",
       "      <td>1594048058194542596</td>\n",
       "      <td>{'_type': 'snscrape.modules.twitter.User', 'us...</td>\n",
       "      <td>0</td>\n",
       "      <td>0</td>\n",
       "      <td>0</td>\n",
       "      <td>...</td>\n",
       "      <td>None</td>\n",
       "      <td>None</td>\n",
       "      <td>None</td>\n",
       "      <td>None</td>\n",
       "      <td>AkseL_97</td>\n",
       "      <td>Je viens d’essayer le Burger King veggie et…</td>\n",
       "      <td>Je viens d’essayer le Burger King veggie et…</td>\n",
       "      <td>&lt;5</td>\n",
       "      <td>&lt;5</td>\n",
       "      <td>.bk2.json</td>\n",
       "    </tr>\n",
       "  </tbody>\n",
       "</table>\n",
       "<p>5 rows × 31 columns</p>\n",
       "</div>"
      ],
      "text/plain": [
       "                            _type  \\\n",
       "0  snscrape.modules.twitter.Tweet   \n",
       "1  snscrape.modules.twitter.Tweet   \n",
       "2  snscrape.modules.twitter.Tweet   \n",
       "3  snscrape.modules.twitter.Tweet   \n",
       "4  snscrape.modules.twitter.Tweet   \n",
       "\n",
       "                                                 url  \\\n",
       "0  https://twitter.com/KjTomei/status/15944499095...   \n",
       "1  https://twitter.com/rKyro_N/status/15944238792...   \n",
       "2  https://twitter.com/SpaceJello1/status/1594422...   \n",
       "3  https://twitter.com/ZestyJalapeno3/status/1594...   \n",
       "4  https://twitter.com/AkseL_97/status/1594048058...   \n",
       "\n",
       "                       date  \\\n",
       "0 2022-11-20 21:57:36+00:00   \n",
       "1 2022-11-20 20:14:10+00:00   \n",
       "2 2022-11-20 20:07:38+00:00   \n",
       "3 2022-11-19 20:36:20+00:00   \n",
       "4 2022-11-19 19:20:47+00:00   \n",
       "\n",
       "                                             content  \\\n",
       "0  @DougStanhope @BurgerKing I heard their new ve...   \n",
       "1  Surely @BurgerKing knows that veggie means no ...   \n",
       "2  @azurasrose @waslenasagt Zum Beispiel TJs Koop...   \n",
       "3  @SanyaWaffles Oof, I heard they were pretty ba...   \n",
       "4  Je viens d’essayer le Burger King veggie et… h...   \n",
       "\n",
       "                                     renderedContent                   id  \\\n",
       "0  @DougStanhope @BurgerKing I heard their new ve...  1594449909578698753   \n",
       "1  Surely @BurgerKing knows that veggie means no ...  1594423879207993345   \n",
       "2  @azurasrose @waslenasagt Zum Beispiel TJs Koop...  1594422236412256256   \n",
       "3  @SanyaWaffles Oof, I heard they were pretty ba...  1594067068131082240   \n",
       "4  Je viens d’essayer le Burger King veggie et… h...  1594048058194542596   \n",
       "\n",
       "                                                user  replyCount  \\\n",
       "0  {'_type': 'snscrape.modules.twitter.User', 'us...           0   \n",
       "1  {'_type': 'snscrape.modules.twitter.User', 'us...           0   \n",
       "2  {'_type': 'snscrape.modules.twitter.User', 'us...           1   \n",
       "3  {'_type': 'snscrape.modules.twitter.User', 'us...           1   \n",
       "4  {'_type': 'snscrape.modules.twitter.User', 'us...           0   \n",
       "\n",
       "   retweetCount  likeCount  ...  coordinates  place hashtags cashtags  \\\n",
       "0             0          0  ...         None   None     None     None   \n",
       "1             0          0  ...         None   None     None     None   \n",
       "2             0          1  ...         None   None     None     None   \n",
       "3             0          1  ...         None   None     None     None   \n",
       "4             0          0  ...         None   None     None     None   \n",
       "\n",
       "         username                                         clean_text  \\\n",
       "0         KjTomei  DougStanhope BurgerKing I heard their new vegg...   \n",
       "1         rKyro_N  Surely BurgerKing knows that veggie means no m...   \n",
       "2     SpaceJello1  azurasrose waslenasagt Zum Beispiel TJs Kooper...   \n",
       "3  ZestyJalapeno3  SanyaWaffles Oof, I heard they were pretty bad...   \n",
       "4        AkseL_97       Je viens d’essayer le Burger King veggie et…   \n",
       "\n",
       "                                     clean_sentiment likeCat  retweetCat  \\\n",
       "0  @user @user I heard their new veggie burger is...      <5          <5   \n",
       "1  Surely @user knows that veggie means no meat? ...      <5          <5   \n",
       "2  @user @user Zum Beispiel TJs Kooperation mit B...      <5          <5   \n",
       "3  @user Oof, I heard they were pretty bad but I ...      <5          <5   \n",
       "4       Je viens d’essayer le Burger King veggie et…      <5          <5   \n",
       "\n",
       "  source_file  \n",
       "0   .bk2.json  \n",
       "1   .bk2.json  \n",
       "2   .bk2.json  \n",
       "3   .bk2.json  \n",
       "4   .bk2.json  \n",
       "\n",
       "[5 rows x 31 columns]"
      ]
     },
     "execution_count": 15,
     "metadata": {},
     "output_type": "execute_result"
    }
   ],
   "source": [
    "data.head()"
   ]
  }
 ],
 "metadata": {
  "kernelspec": {
   "display_name": "Python 3",
   "language": "python",
   "name": "python3"
  },
  "language_info": {
   "codemirror_mode": {
    "name": "ipython",
    "version": 3
   },
   "file_extension": ".py",
   "mimetype": "text/x-python",
   "name": "python",
   "nbconvert_exporter": "python",
   "pygments_lexer": "ipython3",
   "version": "3.8.8"
  }
 },
 "nbformat": 4,
 "nbformat_minor": 5
}
